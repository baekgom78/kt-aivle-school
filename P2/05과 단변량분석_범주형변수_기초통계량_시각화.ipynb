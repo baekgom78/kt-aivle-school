{
 "cells": [
  {
   "cell_type": "markdown",
   "metadata": {
    "id": "qXUBfCONOdID"
   },
   "source": [
    "# 05과 범주형변수"
   ]
  },
  {
   "cell_type": "markdown",
   "metadata": {
    "id": "adtGg06rvqe3"
   },
   "source": [
    "<img src='https://github.com/DA4BAM/image/blob/main/%EB%8B%A8%EB%B3%80%EB%9F%89%EB%B6%84%EC%84%9D.png?raw=true' width=400/>"
   ]
  },
  {
   "cell_type": "markdown",
   "metadata": {
    "id": "LS2rtJiJlaF0"
   },
   "source": [
    "## 1.라이브러리 불러오기"
   ]
  },
  {
   "cell_type": "code",
   "execution_count": 1,
   "metadata": {
    "id": "ba319GIZlcFB"
   },
   "outputs": [],
   "source": [
    "import matplotlib.pyplot as plt\n",
    "import numpy as np\n",
    "import pandas as pd"
   ]
  },
  {
   "cell_type": "markdown",
   "metadata": {
    "id": "h1wBK63N7OvI"
   },
   "source": [
    "## 2.범주형변수의 기초 통계량"
   ]
  },
  {
   "cell_type": "markdown",
   "metadata": {
    "id": "cQ6NjkCB2C-_"
   },
   "source": [
    "* 범주형 변수는 범주별 빈도수와 비율을 확인합니다.\n",
    "* 리스트.count(‘값’) \n",
    "    * 해당 값이 몇 개 있는지 count 해 줍니다.\n",
    "    * Count를 전체 개수(len(gender))로 나눠주면 비율이 됩니다.\n",
    "    * 그런데, 범주가 두 세 개 정도면\u000b",
    "이렇게 계산하는 게 가능합니다.\n",
    "    * 만약 범주가 10개라면?\n"
   ]
  },
  {
   "cell_type": "markdown",
   "metadata": {
    "id": "hZtG2Zfx-yz6"
   },
   "source": [
    "1) 리스트를 이용한 기초통계량"
   ]
  },
  {
   "cell_type": "code",
   "execution_count": 2,
   "metadata": {
    "id": "b9gUzLn2OdIE"
   },
   "outputs": [
    {
     "name": "stdout",
     "output_type": "stream",
     "text": [
      "F 5 0.5555555555555556\n",
      "M 4 0.4444444444444444\n"
     ]
    }
   ],
   "source": [
    "gender = ['F','M','F','F','F','M','F','M','M']\n",
    "\n",
    "f_cnt = gender.count('F')\n",
    "m_cnt = gender.count('M')\n",
    "total_cnt = len(gender)\n",
    "\n",
    "print('F', f_cnt, f_cnt/total_cnt)\n",
    "print('M', m_cnt, m_cnt/total_cnt)"
   ]
  },
  {
   "cell_type": "markdown",
   "metadata": {
    "id": "sY8hD-EF-2xp"
   },
   "source": [
    "2) 판다스를 이용한 기초통계량\n",
    "\n",
    "* 판다스의 .value_counts()\n",
    "    * 범주의 개수와 상관 없이 범주 별 개수를 count 해 줍니다."
   ]
  },
  {
   "cell_type": "code",
   "execution_count": 3,
   "metadata": {
    "id": "LKQYHsYN-14z"
   },
   "outputs": [
    {
     "name": "stdout",
     "output_type": "stream",
     "text": [
      "F    5\n",
      "M    4\n",
      "dtype: int64\n",
      "F    0.555556\n",
      "M    0.444444\n",
      "dtype: float64\n"
     ]
    }
   ],
   "source": [
    "gender = ['F','M','F','F','F','M','F','M','M']\n",
    "gender = pd.Series(gender)\n",
    "\n",
    "print(gender.value_counts())\n",
    "print(gender.value_counts()/len(gender))"
   ]
  },
  {
   "cell_type": "markdown",
   "metadata": {
    "id": "-WMl2W3j_hmx"
   },
   "source": [
    "3) 데이터프레임으로 부터"
   ]
  },
  {
   "cell_type": "code",
   "execution_count": 4,
   "metadata": {
    "id": "Be3ZI4nx_hez"
   },
   "outputs": [
    {
     "name": "stdout",
     "output_type": "stream",
     "text": [
      "3    491\n",
      "1    216\n",
      "2    184\n",
      "Name: Pclass, dtype: int64\n",
      "--------------------------------------------------\n",
      "3    0.551066\n",
      "1    0.242424\n",
      "2    0.206510\n",
      "Name: Pclass, dtype: float64\n"
     ]
    }
   ],
   "source": [
    "titanic = pd.read_csv('https://raw.githubusercontent.com/DA4BAM/dataset/master/titanic_simple.csv')\n",
    "\n",
    "print(titanic['Pclass'].value_counts())\n",
    "print('-'*50)\n",
    "print(titanic['Pclass'].value_counts()/len(titanic['Pclass']))"
   ]
  },
  {
   "cell_type": "markdown",
   "metadata": {
    "id": "5yvn-evr2TpT"
   },
   "source": [
    "* titanic['Pclass’] 해석\n",
    "    * .value_counts()를 이용하여 범주별 빈도수와 범주별 비율을 구할수 있습니다.\n",
    "    * 3등급 객실 탑승객이 전체에서 55% 차지합니다.\n",
    "    * 1등급 객실이 24%, 2등급 객실이 20.7 % \n",
    "\n"
   ]
  },
  {
   "cell_type": "markdown",
   "metadata": {
    "id": "C4UfkJh65kUT"
   },
   "source": [
    "<img src='https://raw.githubusercontent.com/jangrae/img/master/practice_01.png' width=120 align=\"left\"/>"
   ]
  },
  {
   "cell_type": "markdown",
   "metadata": {
    "id": "PJDA8XAS_nlh"
   },
   "source": [
    "1) 리스트로 부터 기초통계량 구하기"
   ]
  },
  {
   "cell_type": "code",
   "execution_count": null,
   "metadata": {
    "id": "RuUh8ldh_urh"
   },
   "outputs": [],
   "source": [
    "grade = ['A','A','B','A','B','B','B','C','C']\n",
    "\n",
    "# 위 리스트의 각 값에 대한 기초통계량을 구해 봅시다.\n"
   ]
  },
  {
   "cell_type": "markdown",
   "metadata": {
    "id": "OheyYBJi_z_p"
   },
   "source": [
    "2) 데이터 프레임으로 부터 기초통계량 구하기"
   ]
  },
  {
   "cell_type": "code",
   "execution_count": 10,
   "metadata": {
    "id": "HlEHcvYH_nb5"
   },
   "outputs": [
    {
     "name": "stdout",
     "output_type": "stream",
     "text": [
      "male      577\n",
      "female    314\n",
      "Name: Sex, dtype: int64\n",
      "\n",
      "male      0.647587\n",
      "female    0.352413\n",
      "Name: Sex, dtype: float64\n"
     ]
    }
   ],
   "source": [
    "titanic = pd.read_csv('https://raw.githubusercontent.com/DA4BAM/dataset/master/titanic_simple.csv')\n",
    "\n",
    "# 성별에 대한 기초 통계량을 구해 봅시다.\n",
    "\n",
    "titsex = pd.Series(titanic['Sex'])\n",
    "print(titsex.value_counts())\n",
    "print()\n",
    "print(titsex.value_counts()/len(titsex))"
   ]
  },
  {
   "cell_type": "markdown",
   "metadata": {
    "id": "uvkAWxOX9us8"
   },
   "source": [
    "## 3.범주형변수의 시각화 - bar chart"
   ]
  },
  {
   "cell_type": "markdown",
   "metadata": {
    "id": "rDXTimrr_90B"
   },
   "source": [
    "1) 기본 bar chart"
   ]
  },
  {
   "cell_type": "code",
   "execution_count": 11,
   "metadata": {
    "id": "7Tf6a9myOdIF",
    "scrolled": true
   },
   "outputs": [
    {
     "data": {
      "image/png": "[encoded data removed]",
      "text/plain": [
       "<Figure size 432x288 with 1 Axes>"
      ]
     },
     "metadata": {
      "needs_background": "light"
     },
     "output_type": "display_data"
    }
   ],
   "source": [
    "gender = ['F','M']\n",
    "cnt = [6, 5]\n",
    "\n",
    "plt.bar(gender, cnt)\n",
    "plt.show()"
   ]
  },
  {
   "cell_type": "markdown",
   "metadata": {
    "id": "n8CaRshPANuy"
   },
   "source": [
    "2) bar chart 옆으로 그리기"
   ]
  },
  {
   "cell_type": "code",
   "execution_count": 12,
   "metadata": {
    "id": "CgTPBEuhAOCw"
   },
   "outputs": [
    {
     "data": {
      "image/png": "[encoded data removed]",
      "text/plain": [
       "<Figure size 432x288 with 1 Axes>"
      ]
     },
     "metadata": {
      "needs_background": "light"
     },
     "output_type": "display_data"
    }
   ],
   "source": [
    "gender = ['F','M']\n",
    "cnt = [6, 5]\n",
    "\n",
    "plt.barh(gender, cnt)\n",
    "plt.show()"
   ]
  },
  {
   "cell_type": "markdown",
   "metadata": {
    "id": "EDW9XsNQATGR"
   },
   "source": [
    "3) 판다스 이용하기\n",
    "\n",
    "* 범주 이름과 값이 필요하므로, 집계작업이 선행되어야 함.\n",
    "* 판다스의 value_counts()를 사용하여 집계\n",
    "    * 집계결과의 index : 범주 이름\n",
    "    * 집계결과의 values : 값\n"
   ]
  },
  {
   "cell_type": "code",
   "execution_count": 13,
   "metadata": {
    "id": "ogo4QMHHATZJ"
   },
   "outputs": [
    {
     "name": "stdout",
     "output_type": "stream",
     "text": [
      "[5 4]\n",
      "Index(['F', 'M'], dtype='object')\n"
     ]
    },
    {
     "data": {
      "image/png": "[encoded data removed]",
      "text/plain": [
       "<Figure size 432x288 with 1 Axes>"
      ]
     },
     "metadata": {
      "needs_background": "light"
     },
     "output_type": "display_data"
    }
   ],
   "source": [
    "gender = ['F','M','F','F','F','M','F','M','M']\n",
    "gender = pd.Series(gender)\n",
    "\n",
    "cnt = gender.value_counts()\n",
    "print(cnt.values)\n",
    "print(cnt.index)\n",
    "\n",
    "plt.barh(cnt.index, cnt.values)\n",
    "plt.show()"
   ]
  },
  {
   "cell_type": "markdown",
   "metadata": {
    "id": "O-tdMLH6AY5w"
   },
   "source": [
    "4) 꾸미기 - 색깔, 간격"
   ]
  },
  {
   "cell_type": "code",
   "execution_count": 14,
   "metadata": {
    "id": "8dlWLGWVAZSp"
   },
   "outputs": [
    {
     "data": {
      "image/png": "[encoded data removed]",
      "text/plain": [
       "<Figure size 432x288 with 1 Axes>"
      ]
     },
     "metadata": {
      "needs_background": "light"
     },
     "output_type": "display_data"
    }
   ],
   "source": [
    "gender = ['F','M']\n",
    "cnt = [6, 5]\n",
    "\n",
    "plt.bar(gender, cnt, color = ['g','r'], width = .3)\n",
    "plt.show()"
   ]
  },
  {
   "cell_type": "markdown",
   "metadata": {
    "id": "oVKIYiknAeF0"
   },
   "source": [
    "<img src='https://raw.githubusercontent.com/jangrae/img/master/practice_01.png' width=120 align=\"left\"/>"
   ]
  },
  {
   "cell_type": "markdown",
   "metadata": {
    "id": "6RcIC1kMAeF0"
   },
   "source": [
    "1) titanic의 Pclass에 대한 bar chart를 그리시오.\n",
    "* 색깔 : g, r, b "
   ]
  },
  {
   "cell_type": "code",
   "execution_count": 16,
   "metadata": {
    "id": "Wxy_-ALkAeF0"
   },
   "outputs": [
    {
     "data": {
      "image/png": "[encoded data removed]",
      "text/plain": [
       "<Figure size 432x288 with 1 Axes>"
      ]
     },
     "metadata": {
      "needs_background": "light"
     },
     "output_type": "display_data"
    }
   ],
   "source": [
    "cnt = titanic['Pclass'].value_counts()\n",
    "\n",
    "plt.barh(cnt.index, cnt.values, color=['g','r','b'])\n",
    "plt.show()"
   ]
  },
  {
   "cell_type": "markdown",
   "metadata": {
    "id": "ypCiFedx_hkk"
   },
   "source": [
    "## 4.범주형변수의 시각화 - pie chart"
   ]
  },
  {
   "cell_type": "markdown",
   "metadata": {
    "id": "5-8c9xcG2s9z"
   },
   "source": [
    "* 범주별 비율 비교할 때 파이차트 사용.\n",
    "* 역시 먼지 집계를 해야 합니다.\n",
    "* plt.pie( 값, labels=범주이름, autopct = ‘%.2f%%’)\n",
    "    * autopct = ‘%**.2f%**%’ : 그래프에 표시할 값 비율 값에 대한 설정입니다.\n",
    "        * **.2f%** : 소수점 두 자리 퍼센트로 표기 한다는 의미.\n"
   ]
  },
  {
   "cell_type": "markdown",
   "metadata": {
    "id": "SGu4aCTkAwzZ"
   },
   "source": [
    "1) pie chart 기본"
   ]
  },
  {
   "cell_type": "code",
   "execution_count": 17,
   "metadata": {
    "id": "kbNvoNKSOdIG"
   },
   "outputs": [
    {
     "data": {
      "image/png": "[encoded data removed]",
      "text/plain": [
       "<Figure size 432x288 with 1 Axes>"
      ]
     },
     "metadata": {},
     "output_type": "display_data"
    }
   ],
   "source": [
    "gender = ['F','M','F','F','F','M','F','M','M']\n",
    "gender = pd.Series(gender)\n",
    "\n",
    "cnt = gender.value_counts()\n",
    "\n",
    "plt.pie(cnt.values, labels = cnt.index, autopct = '%.2f%%')\n",
    "plt.show()"
   ]
  },
  {
   "cell_type": "markdown",
   "metadata": {
    "id": "K3WMix48A1ng"
   },
   "source": [
    "2) pie chart 꾸미기 1\n",
    "\n",
    "* 각도와 방향 조정\n",
    "    * startangle = 90 : 90도 부터 시작\n",
    "    * counterclock = False : 시계 방향으로"
   ]
  },
  {
   "cell_type": "code",
   "execution_count": 18,
   "metadata": {
    "id": "tBml4tvzA13Z"
   },
   "outputs": [
    {
     "data": {
      "image/png": "[encoded data removed]",
      "text/plain": [
       "<Figure size 432x288 with 1 Axes>"
      ]
     },
     "metadata": {},
     "output_type": "display_data"
    }
   ],
   "source": [
    "gender = ['F','M','F','F','F','M','F','M','M']\n",
    "gender = pd.Series(gender)\n",
    "\n",
    "cnt = gender.value_counts()\n",
    "\n",
    "plt.pie(cnt.values, labels = cnt.index, autopct = '%.2f%%', \n",
    "        startangle=90, counterclock=False)\n",
    "plt.show()"
   ]
  },
  {
   "cell_type": "markdown",
   "metadata": {
    "id": "nH8-9uLeA7GA"
   },
   "source": [
    "3) pie chart 꾸미기 2\n",
    "\n",
    "* 간격 띄우고, 그림자 넣기\n",
    "    * explode = [0.05, 0.05] : 중심으로 부터 F와 M 을 얼마만큼 띄울지\n",
    "    * shadow = True : 그림자 추가\n",
    "\n"
   ]
  },
  {
   "cell_type": "code",
   "execution_count": 19,
   "metadata": {
    "id": "bYso7JIGA8K4"
   },
   "outputs": [
    {
     "data": {
      "image/png": "[encoded data removed]",
      "text/plain": [
       "<Figure size 432x288 with 1 Axes>"
      ]
     },
     "metadata": {},
     "output_type": "display_data"
    }
   ],
   "source": [
    "gender = ['F','M','F','F','F','M','F','M','M']\n",
    "gender = pd.Series(gender)\n",
    "\n",
    "cnt = gender.value_counts()\n",
    "\n",
    "plt.pie(cnt.values, labels = cnt.index, autopct = '%.2f%%', \n",
    "        startangle=90, counterclock=False, \n",
    "        explode = [0.05, 0.05], shadow=True)\n",
    "plt.show()\n"
   ]
  },
  {
   "cell_type": "markdown",
   "metadata": {
    "id": "Y47aKdcVBFhJ"
   },
   "source": [
    "<img src='https://raw.githubusercontent.com/jangrae/img/master/practice_01.png' width=120 align=\"left\"/>"
   ]
  },
  {
   "cell_type": "markdown",
   "metadata": {
    "id": "Bdx8CM4wBFhK"
   },
   "source": [
    "1) titanic의 Pclass에 대한 pie chart를 그리시오.\n",
    "* 소수점 1자리까지 비율(%)를 표시하시오."
   ]
  },
  {
   "cell_type": "code",
   "execution_count": null,
   "metadata": {
    "id": "z27s2VoQBDSJ"
   },
   "outputs": [],
   "source": []
  },
  {
   "cell_type": "markdown",
   "metadata": {
    "id": "K5uR2Xx1BnMA"
   },
   "source": [
    "## 5.종합실습"
   ]
  },
  {
   "cell_type": "markdown",
   "metadata": {
    "id": "55c4da07"
   },
   "source": [
    "### 1) Titanic\n",
    "\n",
    "* url : 'https://raw.githubusercontent.com/DA4BAM/dataset/master/titanic_simple.csv'"
   ]
  },
  {
   "cell_type": "markdown",
   "metadata": {
    "id": "kLE39uPLNIEk"
   },
   "source": [
    "**[titanic_simple 데이터 셋 정보]**\n",
    "\n",
    "- PassengerId : 승객번호\n",
    "- Survived : 생존여부(1:생존, 0:사망)\n",
    "- Pclass : 객실등급(1:1등급, 2:2등급, 3:3등급)\n",
    "- Name : 승객이름\n",
    "- Sex : 성별(male, female)\n",
    "- Age : 나이\n",
    "- Fare : 운임($)\n",
    "- Embarked : 승선지역(Southhampton, Cherbourg, Queenstown)"
   ]
  },
  {
   "cell_type": "markdown",
   "metadata": {
    "id": "02cb5c6a"
   },
   "source": [
    "① 데이터를 불러와 봅시다."
   ]
  },
  {
   "cell_type": "code",
   "execution_count": 20,
   "metadata": {
    "id": "b11eb6a1"
   },
   "outputs": [
    {
     "data": {
      "text/html": [
       "<div>\n",
       "<style scoped>\n",
       "    .dataframe tbody tr th:only-of-type {\n",
       "        vertical-align: middle;\n",
       "    }\n",
       "\n",
       "    .dataframe tbody tr th {\n",
       "        vertical-align: top;\n",
       "    }\n",
       "\n",
       "    .dataframe thead th {\n",
       "        text-align: right;\n",
       "    }\n",
       "</style>\n",
       "<table border=\"1\" class=\"dataframe\">\n",
       "  <thead>\n",
       "    <tr style=\"text-align: right;\">\n",
       "      <th></th>\n",
       "      <th>PassengerId</th>\n",
       "      <th>Survived</th>\n",
       "      <th>Pclass</th>\n",
       "      <th>Name</th>\n",
       "      <th>Sex</th>\n",
       "      <th>Age</th>\n",
       "      <th>Fare</th>\n",
       "      <th>Embarked</th>\n",
       "    </tr>\n",
       "  </thead>\n",
       "  <tbody>\n",
       "    <tr>\n",
       "      <th>0</th>\n",
       "      <td>1</td>\n",
       "      <td>0</td>\n",
       "      <td>3</td>\n",
       "      <td>Braund, Mr. Owen Harris</td>\n",
       "      <td>male</td>\n",
       "      <td>22.0</td>\n",
       "      <td>7.2500</td>\n",
       "      <td>Southhampton</td>\n",
       "    </tr>\n",
       "    <tr>\n",
       "      <th>1</th>\n",
       "      <td>2</td>\n",
       "      <td>1</td>\n",
       "      <td>1</td>\n",
       "      <td>Cumings, Mrs. John Bradley (Florence Briggs Th...</td>\n",
       "      <td>female</td>\n",
       "      <td>38.0</td>\n",
       "      <td>71.2833</td>\n",
       "      <td>Cherbourg</td>\n",
       "    </tr>\n",
       "    <tr>\n",
       "      <th>2</th>\n",
       "      <td>3</td>\n",
       "      <td>1</td>\n",
       "      <td>3</td>\n",
       "      <td>Heikkinen, Miss. Laina</td>\n",
       "      <td>female</td>\n",
       "      <td>26.0</td>\n",
       "      <td>7.9250</td>\n",
       "      <td>Southhampton</td>\n",
       "    </tr>\n",
       "    <tr>\n",
       "      <th>3</th>\n",
       "      <td>4</td>\n",
       "      <td>1</td>\n",
       "      <td>1</td>\n",
       "      <td>Futrelle, Mrs. Jacques Heath (Lily May Peel)</td>\n",
       "      <td>female</td>\n",
       "      <td>35.0</td>\n",
       "      <td>53.1000</td>\n",
       "      <td>Southhampton</td>\n",
       "    </tr>\n",
       "    <tr>\n",
       "      <th>4</th>\n",
       "      <td>5</td>\n",
       "      <td>0</td>\n",
       "      <td>3</td>\n",
       "      <td>Allen, Mr. William Henry</td>\n",
       "      <td>male</td>\n",
       "      <td>35.0</td>\n",
       "      <td>8.0500</td>\n",
       "      <td>Southhampton</td>\n",
       "    </tr>\n",
       "  </tbody>\n",
       "</table>\n",
       "</div>"
      ],
      "text/plain": [
       "   PassengerId  Survived  Pclass  \\\n",
       "0            1         0       3   \n",
       "1            2         1       1   \n",
       "2            3         1       3   \n",
       "3            4         1       1   \n",
       "4            5         0       3   \n",
       "\n",
       "                                                Name     Sex   Age     Fare  \\\n",
       "0                            Braund, Mr. Owen Harris    male  22.0   7.2500   \n",
       "1  Cumings, Mrs. John Bradley (Florence Briggs Th...  female  38.0  71.2833   \n",
       "2                             Heikkinen, Miss. Laina  female  26.0   7.9250   \n",
       "3       Futrelle, Mrs. Jacques Heath (Lily May Peel)  female  35.0  53.1000   \n",
       "4                           Allen, Mr. William Henry    male  35.0   8.0500   \n",
       "\n",
       "       Embarked  \n",
       "0  Southhampton  \n",
       "1     Cherbourg  \n",
       "2  Southhampton  \n",
       "3  Southhampton  \n",
       "4  Southhampton  "
      ]
     },
     "execution_count": 20,
     "metadata": {},
     "output_type": "execute_result"
    }
   ],
   "source": [
    "tit = pd.read_csv('https://raw.githubusercontent.com/DA4BAM/dataset/master/titanic_simple.csv')\n",
    "tit.head()"
   ]
  },
  {
   "cell_type": "markdown",
   "metadata": {
    "id": "a4116c3a"
   },
   "source": [
    "② 티켓 클래스(Pclass)의 범주별 빈도수와 범주별 비율을 구하시오."
   ]
  },
  {
   "cell_type": "code",
   "execution_count": 22,
   "metadata": {
    "id": "546e8742"
   },
   "outputs": [
    {
     "name": "stdout",
     "output_type": "stream",
     "text": [
      "3    491\n",
      "1    216\n",
      "2    184\n",
      "Name: Pclass, dtype: int64\n",
      "3    0.551066\n",
      "1    0.242424\n",
      "2    0.206510\n",
      "Name: Pclass, dtype: float64\n"
     ]
    }
   ],
   "source": [
    "titpc = pd.Series(tit['Pclass'])\n",
    "print(titpc.value_counts())\n",
    "print(titpc.value_counts()/len(titpc))"
   ]
  },
  {
   "cell_type": "markdown",
   "metadata": {
    "id": "c60cf35b"
   },
   "source": [
    "③ 티켓 클래스(Pclass)의 범주별 빈도수를 구하고 bar chart와 pie chart를 주어진 결과에 맞게 그리시오."
   ]
  },
  {
   "cell_type": "code",
   "execution_count": 40,
   "metadata": {
    "id": "9b306c84"
   },
   "outputs": [
    {
     "name": "stdout",
     "output_type": "stream",
     "text": [
      "3    491\n",
      "1    216\n",
      "2    184\n",
      "Name: Pclass, dtype: int64\n"
     ]
    },
    {
     "data": {
      "image/png": "[encoded data removed]",
      "text/plain": [
       "<Figure size 432x288 with 1 Axes>"
      ]
     },
     "metadata": {
      "needs_background": "light"
     },
     "output_type": "display_data"
    },
    {
     "data": {
      "image/png": "[encoded data removed]",
      "text/plain": [
       "<Figure size 432x288 with 1 Axes>"
      ]
     },
     "metadata": {},
     "output_type": "display_data"
    }
   ],
   "source": [
    "print(titpc.value_counts())\n",
    "titcnt = titpc.value_counts()\n",
    "plt.subplot(1,2,1)\n",
    "plt.bar(titcnt.index,titcnt.values)\n",
    "plt.show()\n",
    "\n",
    "plt.subplot(1,2,2)\n",
    "\n",
    "plt.pie(titcnt.values, labels = titcnt.index, autopct = '%.2f%%')\n",
    "plt.show()"
   ]
  },
  {
   "cell_type": "markdown",
   "metadata": {
    "id": "UHZwIlDyC-CI"
   },
   "source": [
    "④ 위 분포로 부터 알수 있는 것은?"
   ]
  },
  {
   "cell_type": "code",
   "execution_count": null,
   "metadata": {
    "id": "JsGkPEoxDA7J"
   },
   "outputs": [],
   "source": []
  },
  {
   "cell_type": "markdown",
   "metadata": {
    "id": "75jMMU31e9dO"
   },
   "source": [
    "⑤ 탑승지역(Embarked)의 범주별 빈도수와 범주별 비율을 구하시오."
   ]
  },
  {
   "cell_type": "code",
   "execution_count": 41,
   "metadata": {
    "id": "KpA4nFC5e9dS"
   },
   "outputs": [
    {
     "name": "stdout",
     "output_type": "stream",
     "text": [
      "Southhampton    644\n",
      "Cherbourg       168\n",
      "Queenstown       77\n",
      "Name: Embarked, dtype: int64\n",
      "Southhampton    0.722783\n",
      "Cherbourg       0.188552\n",
      "Queenstown      0.086420\n",
      "Name: Embarked, dtype: float64\n"
     ]
    }
   ],
   "source": [
    "titem = pd.Series(tit['Embarked'])\n",
    "print(titem.value_counts())\n",
    "print(titem.value_counts()/len(titem))"
   ]
  },
  {
   "cell_type": "markdown",
   "metadata": {
    "id": "JvDQI0Vee9dS"
   },
   "source": [
    "⑥ 탑승지역(Embarked)의 범주별 빈도수를 구하고 bar chart와 pie chart를 주어진 결과에 맞게 그리시오."
   ]
  },
  {
   "cell_type": "code",
   "execution_count": 43,
   "metadata": {
    "id": "xYsbRz2Be9dT"
   },
   "outputs": [
    {
     "name": "stdout",
     "output_type": "stream",
     "text": [
      "Southhampton    644\n",
      "Cherbourg       168\n",
      "Queenstown       77\n",
      "Name: Embarked, dtype: int64\n"
     ]
    },
    {
     "data": {
      "image/png": "[encoded data removed]",
      "text/plain": [
       "<Figure size 432x288 with 1 Axes>"
      ]
     },
     "metadata": {
      "needs_background": "light"
     },
     "output_type": "display_data"
    },
    {
     "data": {
      "image/png": "[encoded data removed]",
      "text/plain": [
       "<Figure size 432x288 with 1 Axes>"
      ]
     },
     "metadata": {},
     "output_type": "display_data"
    }
   ],
   "source": [
    "titem = pd.Series(tit['Embarked'])\n",
    "titemcnt = titem.value_counts()\n",
    "print(titemcnt)\n",
    "\n",
    "plt.bar(titemcnt.index, titemcnt.values)\n",
    "plt.show()\n",
    "\n",
    "plt.pie(titemcnt.values, labels= titemcnt.index)\n",
    "plt.show()"
   ]
  },
  {
   "cell_type": "markdown",
   "metadata": {
    "id": "xcPNPhJ5e9dT"
   },
   "source": [
    "⑦ 위 분포로 부터 알수 있는 것은?"
   ]
  },
  {
   "cell_type": "code",
   "execution_count": null,
   "metadata": {
    "id": "uYPV3Atde9dT"
   },
   "outputs": [],
   "source": []
  },
  {
   "cell_type": "markdown",
   "metadata": {
    "id": "CmskYZoeR_qi"
   },
   "source": [
    "### 2) Attrition\n",
    "\n",
    "* url : https://raw.githubusercontent.com/DA4BAM/dataset/master/Attrition_simple2.CSV"
   ]
  },
  {
   "cell_type": "markdown",
   "metadata": {
    "id": "155flcV-LNEC"
   },
   "source": [
    "**[Attrition 데이터 셋 정보]**\n",
    "\n",
    "|\t구분\t|\t변수 명\t|\t내용\t|\ttype\t|\t비고\t|\n",
    "|\t----\t|\t----\t|\t----\t|\t----\t|\t----\t|\n",
    "|\t**Target**\t|\t**Attrition**\t|\t이직여부, Yes , No\t|\t범주\t| 1- 이직, 0- 잔류\t\t|\n",
    "|\tfeature\t|\tAge\t|\t나이\t|\t숫자\t|\t\t|\n",
    "|\tfeature\t|\tDistanceFromHome\t|\t집-직장 거리\t|\t숫자\t|\t마일\t|\n",
    "|\tfeature\t|\tEmployNumber\t|\t사번\t|\t숫자\t| \t|\n",
    "|\tfeature\t|\tGender\t|\t성별\t|\t범주\t| Male, Female\t\t|\n",
    "|\tfeature\t|\tJobSatisfaction\t|\t직무 만족도\t|\t범주\t|\t1 Low, 2 Medium, 3 High, 4 Very High\t|\n",
    "|\tfeature\t|\tMaritalStatus\t|\t결혼상태\t|\t범주\t| Single, Married, Divorced\t\t|\n",
    "|\tfeature\t|\tMonthlyIncome\t|\t월급\t|\t숫자\t| 달러\t|\n",
    "|\tfeature\t|\tOverTime\t|\t야근여부\t|\t범주\t|\tYes, No\t|\n",
    "|\tfeature\t|\tPercentSalaryHike\t|\t전년대비 급여인상율\t|\t숫자\t|\t%\t|\n",
    "|\tfeature\t|\tTotalWorkingYears\t|\t총 경력 연수\t|\t숫자\t|\t\t|"
   ]
  },
  {
   "cell_type": "markdown",
   "metadata": {
    "id": "jXgQLmo7R_qk"
   },
   "source": [
    "① 데이터를 불러와 봅시다."
   ]
  },
  {
   "cell_type": "code",
   "execution_count": 44,
   "metadata": {
    "id": "j7kQuTvkR_qk"
   },
   "outputs": [
    {
     "data": {
      "text/html": [
       "<div>\n",
       "<style scoped>\n",
       "    .dataframe tbody tr th:only-of-type {\n",
       "        vertical-align: middle;\n",
       "    }\n",
       "\n",
       "    .dataframe tbody tr th {\n",
       "        vertical-align: top;\n",
       "    }\n",
       "\n",
       "    .dataframe thead th {\n",
       "        text-align: right;\n",
       "    }\n",
       "</style>\n",
       "<table border=\"1\" class=\"dataframe\">\n",
       "  <thead>\n",
       "    <tr style=\"text-align: right;\">\n",
       "      <th></th>\n",
       "      <th>Attrition</th>\n",
       "      <th>Age</th>\n",
       "      <th>DistanceFromHome</th>\n",
       "      <th>EmployeeNumber</th>\n",
       "      <th>Gender</th>\n",
       "      <th>JobSatisfaction</th>\n",
       "      <th>MaritalStatus</th>\n",
       "      <th>MonthlyIncome</th>\n",
       "      <th>OverTime</th>\n",
       "      <th>PercentSalaryHike</th>\n",
       "      <th>TotalWorkingYears</th>\n",
       "    </tr>\n",
       "  </thead>\n",
       "  <tbody>\n",
       "    <tr>\n",
       "      <th>0</th>\n",
       "      <td>0</td>\n",
       "      <td>33</td>\n",
       "      <td>7</td>\n",
       "      <td>817</td>\n",
       "      <td>Male</td>\n",
       "      <td>3</td>\n",
       "      <td>Married</td>\n",
       "      <td>11691</td>\n",
       "      <td>No</td>\n",
       "      <td>11</td>\n",
       "      <td>14</td>\n",
       "    </tr>\n",
       "    <tr>\n",
       "      <th>1</th>\n",
       "      <td>0</td>\n",
       "      <td>35</td>\n",
       "      <td>18</td>\n",
       "      <td>1412</td>\n",
       "      <td>Male</td>\n",
       "      <td>4</td>\n",
       "      <td>Single</td>\n",
       "      <td>9362</td>\n",
       "      <td>No</td>\n",
       "      <td>11</td>\n",
       "      <td>10</td>\n",
       "    </tr>\n",
       "    <tr>\n",
       "      <th>2</th>\n",
       "      <td>0</td>\n",
       "      <td>42</td>\n",
       "      <td>6</td>\n",
       "      <td>1911</td>\n",
       "      <td>Male</td>\n",
       "      <td>1</td>\n",
       "      <td>Married</td>\n",
       "      <td>13348</td>\n",
       "      <td>No</td>\n",
       "      <td>13</td>\n",
       "      <td>18</td>\n",
       "    </tr>\n",
       "    <tr>\n",
       "      <th>3</th>\n",
       "      <td>0</td>\n",
       "      <td>46</td>\n",
       "      <td>2</td>\n",
       "      <td>1204</td>\n",
       "      <td>Female</td>\n",
       "      <td>1</td>\n",
       "      <td>Married</td>\n",
       "      <td>17048</td>\n",
       "      <td>No</td>\n",
       "      <td>23</td>\n",
       "      <td>28</td>\n",
       "    </tr>\n",
       "    <tr>\n",
       "      <th>4</th>\n",
       "      <td>1</td>\n",
       "      <td>22</td>\n",
       "      <td>4</td>\n",
       "      <td>593</td>\n",
       "      <td>Male</td>\n",
       "      <td>3</td>\n",
       "      <td>Single</td>\n",
       "      <td>3894</td>\n",
       "      <td>No</td>\n",
       "      <td>16</td>\n",
       "      <td>4</td>\n",
       "    </tr>\n",
       "  </tbody>\n",
       "</table>\n",
       "</div>"
      ],
      "text/plain": [
       "   Attrition  Age  DistanceFromHome  EmployeeNumber  Gender  JobSatisfaction  \\\n",
       "0          0   33                 7             817    Male                3   \n",
       "1          0   35                18            1412    Male                4   \n",
       "2          0   42                 6            1911    Male                1   \n",
       "3          0   46                 2            1204  Female                1   \n",
       "4          1   22                 4             593    Male                3   \n",
       "\n",
       "  MaritalStatus  MonthlyIncome OverTime  PercentSalaryHike  TotalWorkingYears  \n",
       "0       Married          11691       No                 11                 14  \n",
       "1        Single           9362       No                 11                 10  \n",
       "2       Married          13348       No                 13                 18  \n",
       "3       Married          17048       No                 23                 28  \n",
       "4        Single           3894       No                 16                  4  "
      ]
     },
     "execution_count": 44,
     "metadata": {},
     "output_type": "execute_result"
    }
   ],
   "source": [
    "att = pd.read_csv('https://raw.githubusercontent.com/DA4BAM/dataset/master/Attrition_simple2.CSV')\n",
    "att.head()"
   ]
  },
  {
   "cell_type": "markdown",
   "metadata": {
    "id": "mnBhCY3OR_qm"
   },
   "source": [
    "② MaritalStatus\t의 범주별 빈도수와 범주별 비율을 구하시오."
   ]
  },
  {
   "cell_type": "code",
   "execution_count": 48,
   "metadata": {
    "id": "ano1cF3PR_qm"
   },
   "outputs": [
    {
     "name": "stdout",
     "output_type": "stream",
     "text": [
      "Married     548\n",
      "Single      384\n",
      "Divorced    264\n",
      "Name: MaritalStatus, dtype: int64\n",
      "Married     0.458194\n",
      "Single      0.321070\n",
      "Divorced    0.220736\n",
      "Name: MaritalStatus, dtype: float64\n"
     ]
    }
   ],
   "source": [
    "mar = pd.Series(att['MaritalStatus'])\n",
    "marcnt = mar.value_counts()\n",
    "print(marcnt)\n",
    "print(marcnt/len(mar))"
   ]
  },
  {
   "cell_type": "markdown",
   "metadata": {
    "id": "UCbkh7P8fUul"
   },
   "source": [
    "③ MaritalStatus의 범주별 빈도수를 구하고 bar chart와 pie chart를 주어진 결과에 맞게 그리시오."
   ]
  },
  {
   "cell_type": "code",
   "execution_count": 49,
   "metadata": {
    "id": "ATXYn2OVfVcf"
   },
   "outputs": [
    {
     "name": "stdout",
     "output_type": "stream",
     "text": [
      "Married     548\n",
      "Single      384\n",
      "Divorced    264\n",
      "Name: MaritalStatus, dtype: int64\n"
     ]
    },
    {
     "data": {
      "image/png": "[encoded data removed]",
      "text/plain": [
       "<Figure size 432x288 with 1 Axes>"
      ]
     },
     "metadata": {
      "needs_background": "light"
     },
     "output_type": "display_data"
    },
    {
     "data": {
      "image/png": "[encoded data removed]",
      "text/plain": [
       "<Figure size 432x288 with 1 Axes>"
      ]
     },
     "metadata": {},
     "output_type": "display_data"
    }
   ],
   "source": [
    "print(marcnt)\n",
    "\n",
    "plt.subplot(1,2,1)\n",
    "plt.bar(marcnt.index, marcnt.values)\n",
    "plt.show()\n",
    "\n",
    "plt.subplot(1,2,2)\n",
    "plt.pie(marcnt.values, labels = marcnt.index)\n",
    "plt.show()"
   ]
  },
  {
   "cell_type": "markdown",
   "metadata": {
    "id": "QcUiesPvfj-q"
   },
   "source": [
    "④ 위 분포로 부터 알수 있는 것은?"
   ]
  },
  {
   "cell_type": "code",
   "execution_count": null,
   "metadata": {
    "id": "Dk9IRGdNfj-q"
   },
   "outputs": [],
   "source": []
  },
  {
   "cell_type": "markdown",
   "metadata": {
    "id": "-U4ERO65fuJF"
   },
   "source": [
    "⑤ 직무만족도(JobSatisfaction)\t의 범주별 빈도수와 범주별 비율을 구하시오."
   ]
  },
  {
   "cell_type": "code",
   "execution_count": 50,
   "metadata": {
    "id": "XuA1Q6dYfuJF"
   },
   "outputs": [
    {
     "name": "stdout",
     "output_type": "stream",
     "text": [
      "4    373\n",
      "3    354\n",
      "1    243\n",
      "2    226\n",
      "Name: JobSatisfaction, dtype: int64\n",
      "4    0.311873\n",
      "3    0.295987\n",
      "1    0.203177\n",
      "2    0.188963\n",
      "Name: JobSatisfaction, dtype: float64\n"
     ]
    }
   ],
   "source": [
    "job = pd.Series(att['JobSatisfaction'])\n",
    "jobcnt = job.value_counts()\n",
    "\n",
    "print(jobcnt)\n",
    "print(jobcnt/len(job))"
   ]
  },
  {
   "cell_type": "markdown",
   "metadata": {
    "id": "PbRzMOPwS6gE"
   },
   "source": [
    "⑥ 직무만족도(JobSatisfaction)의 범주별 빈도수를 구하고 bar chart와 pie chart를 주어진 결과에 맞게 그리시오."
   ]
  },
  {
   "cell_type": "code",
   "execution_count": 51,
   "metadata": {
    "id": "LlUtvTTYS6gF"
   },
   "outputs": [
    {
     "name": "stdout",
     "output_type": "stream",
     "text": [
      "4    373\n",
      "3    354\n",
      "1    243\n",
      "2    226\n",
      "Name: JobSatisfaction, dtype: int64\n"
     ]
    },
    {
     "data": {
      "image/png": "[encoded data removed]",
      "text/plain": [
       "<Figure size 432x288 with 1 Axes>"
      ]
     },
     "metadata": {
      "needs_background": "light"
     },
     "output_type": "display_data"
    },
    {
     "data": {
      "image/png": "[encoded data removed]",
      "text/plain": [
       "<Figure size 432x288 with 1 Axes>"
      ]
     },
     "metadata": {},
     "output_type": "display_data"
    }
   ],
   "source": [
    "print(jobcnt)\n",
    "\n",
    "plt.subplot(1,2,1)\n",
    "plt.bar(jobcnt.index, jobcnt.values)\n",
    "plt.show()\n",
    "\n",
    "plt.subplot(1,2,2)\n",
    "plt.pie(jobcnt.values, labels = jobcnt.index)\n",
    "plt.show()"
   ]
  },
  {
   "cell_type": "markdown",
   "metadata": {
    "id": "PHsXOBoODCV9"
   },
   "source": [
    "⑦ 위 분포로 부터 알수 있는 것은?"
   ]
  },
  {
   "cell_type": "code",
   "execution_count": null,
   "metadata": {
    "id": "_J7WZoEGDCV-"
   },
   "outputs": [],
   "source": []
  }
 ],
 "metadata": {
  "colab": {
   "collapsed_sections": [],
   "name": "05과 단변량분석_범주형변수_기초통계량_시각화.ipynb",
   "provenance": [],
   "toc_visible": true
  },
  "kernelspec": {
   "display_name": "Python 3 (ipykernel)",
   "language": "python",
   "name": "python3"
  },
  "language_info": {
   "codemirror_mode": {
    "name": "ipython",
    "version": 3
   },
   "file_extension": ".py",
   "mimetype": "text/x-python",
   "name": "python",
   "nbconvert_exporter": "python",
   "pygments_lexer": "ipython3",
   "version": "3.8.8"
  }
 },
 "nbformat": 4,
 "nbformat_minor": 1
}
